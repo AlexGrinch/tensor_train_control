{
 "cells": [
  {
   "cell_type": "code",
   "execution_count": 1,
   "metadata": {},
   "outputs": [],
   "source": [
    "import numpy as np\n",
    "import random\n",
    "import tensorflow as tf\n",
    "import tensorflow.contrib.layers as layers\n",
    "import t3f\n",
    "import gym\n",
    "\n",
    "import tensorflow as tf\n",
    "from tensorflow.python import keras\n",
    "from tensorflow.python.keras.layers import Dense, Concatenate, Add, Reshape, Lambda, Activation\n",
    "from tensorflow.python.keras.initializers import RandomUniform"
   ]
  },
  {
   "cell_type": "code",
   "execution_count": 2,
   "metadata": {},
   "outputs": [
    {
     "name": "stdout",
     "output_type": "stream",
     "text": [
      "\u001b[33mWARN: gym.spaces.Box autodetected dtype as <class 'numpy.float32'>. Please provide explicit dtype.\u001b[0m\n",
      "\u001b[33mWARN: gym.spaces.Box autodetected dtype as <class 'numpy.float32'>. Please provide explicit dtype.\u001b[0m\n"
     ]
    },
    {
     "data": {
      "text/plain": [
       "array([ 0.80485598, -0.59347017, -0.72260397])"
      ]
     },
     "execution_count": 2,
     "metadata": {},
     "output_type": "execute_result"
    }
   ],
   "source": [
    "env = gym.make('Pendulum-v0')\n",
    "env.reset()"
   ]
  },
  {
   "cell_type": "code",
   "execution_count": 3,
   "metadata": {},
   "outputs": [],
   "source": [
    "import numpy as np\n",
    "import tensorflow as tf\n",
    "import t3f\n",
    "from tensorflow.python import keras\n",
    "from tensorflow.python.keras.layers import Layer, Lambda, Input\n",
    "\n",
    "\n",
    "class QTLayer(Layer):\n",
    "\n",
    "    def __init__(self, state_shape, tt_shape, partition_size=64, tt_rank=8, **kwargs):\n",
    "        self.state_shape = state_shape\n",
    "        self.tt_shape = tt_shape\n",
    "        self.part_size = partition_size\n",
    "        self.tt_rank = tt_rank\n",
    "        super(QTLayer, self).__init__(**kwargs)\n",
    "\n",
    "    def build(self, input_shape):\n",
    "        \n",
    "        q_init = t3f.random_tensor(shape=self.tt_shape, tt_rank=self.tt_rank, stddev=1e-3)\n",
    "        q_init = t3f.cast(q_init, dtype=tf.float32)\n",
    "        self.Q = t3f.get_variable('Q', initializer=q_init)\n",
    "        self._trainable_weights = list(self.Q.tt_cores)\n",
    "        self.built = True\n",
    "\n",
    "    def call(self, x, mode='q_sa'):\n",
    "        \n",
    "        if mode == 'q_sa':\n",
    "            states, actions = x\n",
    "            reshaped_s = tf.reshape(states, (-1, np.prod(self.state_shape)))\n",
    "            reshaped_a = tf.reshape(actions, (-1, 1))\n",
    "            input_s_and_a = tf.concat([reshaped_s, reshaped_a], axis=1)\n",
    "            q_values_sa = t3f.gather_nd(self.Q, input_s_and_a)\n",
    "            return q_values_sa\n",
    "        \n",
    "        elif mode == 'q_s':\n",
    "            states = x\n",
    "            reshaped_s = tf.reshape(states, (-1, np.prod(self.state_shape)))\n",
    "            s_a_idx = tf.concat(self.part_size * [reshaped_s], axis=0) \n",
    "            actions_range = tf.range(start=0, limit=self.part_size)\n",
    "            a_idx = self.tf_repeat(actions_range, tf.shape(states)[0:1])\n",
    "            s_a_idx = tf.concat([s_a_idx, a_idx], axis=1)\n",
    "            vals = t3f.gather_nd(self.Q, s_a_idx)\n",
    "            q_values_s = tf.transpose(tf.reshape(vals, shape=(self.part_size, -1)))\n",
    "            return q_values_s\n",
    "\n",
    "    def tf_repeat(self, x, num):\n",
    "        u = tf.reshape(x, (-1, 1))\n",
    "        ones = tf.ones(1, dtype=tf.int32)\n",
    "        u = tf.tile(u, tf.concat([ones, num], axis=0))\n",
    "        u = tf.reshape(u, (-1, 1))\n",
    "        return u    \n",
    "    \n",
    "    def compute_output_shape(self, input_shape):\n",
    "        return input_shape\n",
    "    \n",
    "class QQTTCriticNetwork:\n",
    "    \n",
    "    def __init__(self, state_shape, action_size, tt_rank, \n",
    "                 partition_size=64, scope=None):\n",
    "        self.state_shape = state_shape\n",
    "        self.action_size = action_size\n",
    "        self.tt_rank = tt_rank\n",
    "        self.part_size = partition_size\n",
    "        self.scope = scope or 'QQttCriticNetwork'\n",
    "        self.input_shape = (partition_size, ) * (state_shape[0] + 1)\n",
    "        \n",
    "        self.state_low = tf.constant([-1., -1., -8.])\n",
    "        self.state_high = tf.constant([1., 1., 8.])\n",
    "        self.state_step = (self.state_high - self.state_low) / (self.part_size - 1)\n",
    "        \n",
    "        self.action_low = tf.constant([-2.])\n",
    "        self.action_high = tf.constant([2.])\n",
    "        self.action_step = (self.action_high - self.action_low) / (self.part_size - 1)\n",
    "\n",
    "        self.model_critic, self.model_actor = self.build_models()\n",
    "\n",
    "    def build_models(self):\n",
    "        \n",
    "        input_state = Input(shape=self.state_shape, name='state_input')\n",
    "        input_action = Input(shape=(self.action_size, ), name='action_input')\n",
    "        model_inputs = [input_state, input_action]\n",
    "        \n",
    "        with tf.variable_scope(self.scope):\n",
    "        \n",
    "            states = Lambda(lambda x: self.discretize_states(x))(input_state)\n",
    "            actions = Lambda(lambda x: self.discretize_actions(x))(input_action)\n",
    "\n",
    "            tt_shape = (self.part_size, ) * (self.state_shape[0] + 1)\n",
    "            \n",
    "            qt_layer = QTLayer(self.state_shape, tt_shape, self.part_size)\n",
    "            \n",
    "            q_values_sa = qt_layer([states, actions], mode='q_sa')\n",
    "            q_values_s = qt_layer(states, mode='q_s')\n",
    "            \n",
    "            best_actions = Lambda(lambda x: tf.argmax(x, axis=1))(q_values_s)\n",
    "            best_actions_cont = Lambda(lambda x: self.discretize_actions_back(x))(best_actions)\n",
    "            \n",
    "            model_critic = keras.models.Model(inputs=[input_state, input_action], outputs=q_values_sa)\n",
    "            model_actor = keras.models.Model(inputs=[input_state], outputs=best_actions_cont)\n",
    "            model_critic.summary()\n",
    "            model_actor.summary()\n",
    "        \n",
    "        return model_critic, model_actor\n",
    "    \n",
    "    def discretize_states(self, states):\n",
    "        disc_states = tf.round((states - self.state_low) / self.state_step)\n",
    "        disc_states = tf.cast(disc_states, dtype=tf.int32)\n",
    "        return disc_states\n",
    "    \n",
    "    def discretize_actions(self, actions):\n",
    "        disc_actions = tf.round((actions - self.action_low) / self.action_step)\n",
    "        disc_actions = tf.cast(disc_actions, dtype=tf.int32)\n",
    "        return disc_actions\n",
    "    \n",
    "    def discretize_actions_back(self, disc_actions):\n",
    "        actions = tf.cast(disc_actions, dtype=tf.float32)\n",
    "        actions = self.action_low + actions * self.action_step\n",
    "        return actions\n",
    "\n",
    "    def __call__(self, inputs):\n",
    "        \n",
    "        if len(inputs) == 2:\n",
    "            state_input = inputs[0][0]\n",
    "            action_input = inputs[1]\n",
    "            q_values_sa = self.model_critic([state_input, action_input])\n",
    "            return q_values_sa\n",
    "        if len(inputs) == 1:\n",
    "            state_input = inputs[0][0]\n",
    "            best_actions = self.model_actor([state_input])\n",
    "            return best_actions\n",
    "    \n",
    "    def variables(self):\n",
    "        return self.model.trainable_weights\n",
    "    \n",
    "    def copy(self, scope=None):\n",
    "        \"\"\"copy network architecture\"\"\"\n",
    "        scope = scope or self.scope + \"_copy\"\n",
    "        with tf.variable_scope(scope):\n",
    "            return QQTTCriticNetwork(state_shape=self.state_shape,\n",
    "                                     action_size=self.action_size,\n",
    "                                     tt_rank=self.tt_rank,\n",
    "                                     partition_size=self.part_size,\n",
    "                                     scope=scope)\n"
   ]
  },
  {
   "cell_type": "code",
   "execution_count": 4,
   "metadata": {},
   "outputs": [
    {
     "name": "stdout",
     "output_type": "stream",
     "text": [
      "__________________________________________________________________________________________________\n",
      "Layer (type)                    Output Shape         Param #     Connected to                     \n",
      "==================================================================================================\n",
      "state_input (InputLayer)        (None, 3)            0                                            \n",
      "__________________________________________________________________________________________________\n",
      "action_input (InputLayer)       (None, 1)            0                                            \n",
      "__________________________________________________________________________________________________\n",
      "lambda_1 (Lambda)               (None, 3)            0           state_input[0][0]                \n",
      "__________________________________________________________________________________________________\n",
      "lambda_2 (Lambda)               (None, 1)            0           action_input[0][0]               \n",
      "__________________________________________________________________________________________________\n",
      "qt_layer_1 (QTLayer)            multiple             9216        lambda_1[0][0]                   \n",
      "                                                                 lambda_2[0][0]                   \n",
      "==================================================================================================\n",
      "Total params: 9,216\n",
      "Trainable params: 9,216\n",
      "Non-trainable params: 0\n",
      "__________________________________________________________________________________________________\n",
      "_________________________________________________________________\n",
      "Layer (type)                 Output Shape              Param #   \n",
      "=================================================================\n",
      "state_input (InputLayer)     (None, 3)                 0         \n",
      "_________________________________________________________________\n",
      "lambda_1 (Lambda)            (None, 3)                 0         \n",
      "_________________________________________________________________\n",
      "qt_layer_1 (QTLayer)         multiple                  9216      \n",
      "_________________________________________________________________\n",
      "lambda_3 (Lambda)            (None,)                   0         \n",
      "_________________________________________________________________\n",
      "lambda_4 (Lambda)            (None,)                   0         \n",
      "=================================================================\n",
      "Total params: 9,216\n",
      "Trainable params: 9,216\n",
      "Non-trainable params: 0\n",
      "_________________________________________________________________\n"
     ]
    }
   ],
   "source": [
    "state_shape = (3, )\n",
    "action_size = 1\n",
    "tt_rank = 8\n",
    "critic = QQTTCriticNetwork(state_shape, action_size, tt_rank, scope='CriticQQTT2')"
   ]
  },
  {
   "cell_type": "code",
   "execution_count": 5,
   "metadata": {},
   "outputs": [],
   "source": [
    "states = tf.placeholder(dtype=tf.float32, shape=(None, ) + state_shape)\n",
    "actions = tf.placeholder(dtype=tf.float32, shape=(None, ) + (action_size, ))"
   ]
  },
  {
   "cell_type": "code",
   "execution_count": 6,
   "metadata": {},
   "outputs": [],
   "source": [
    "import os\n",
    "def gpu_config(gpu_id):\n",
    "\n",
    "    config = tf.ConfigProto(device_count={'CPU': 1})\n",
    "    config.intra_op_parallelism_threads = 1\n",
    "    config.inter_op_parallelism_threads = 1\n",
    "    if gpu_id == -1:\n",
    "        return config\n",
    "    os.environ[\"CUDA_DEVICE_ORDER\"] = \"PCI_BUS_ID\"\n",
    "    os.environ[\"CUDA_VISIBLE_DEVICES\"] = str(gpu_id)\n",
    "    config.gpu_options.allow_growth = True\n",
    "    return config\n",
    "\n",
    "sess = tf.Session(config=gpu_config(0))"
   ]
  },
  {
   "cell_type": "code",
   "execution_count": 7,
   "metadata": {},
   "outputs": [],
   "source": [
    "batch_size = 2\n",
    "\n",
    "s = 2*np.random.random((batch_size, state_shape[0]))-1\n",
    "s[:,2] *= 8\n",
    "a = 2*np.random.random((batch_size, action_size))-1\n",
    "a *= 2"
   ]
  },
  {
   "cell_type": "code",
   "execution_count": 9,
   "metadata": {},
   "outputs": [],
   "source": [
    "q_values = critic([[states], actions])\n",
    "best_actions = critic([[states]])\n",
    "#q_values_b = critic([[states], best_actions])"
   ]
  },
  {
   "cell_type": "code",
   "execution_count": 10,
   "metadata": {},
   "outputs": [],
   "source": [
    "init = tf.global_variables_initializer()\n",
    "sess.run(init)"
   ]
  },
  {
   "cell_type": "code",
   "execution_count": 11,
   "metadata": {},
   "outputs": [],
   "source": [
    "q_vals, best_acts = sess.run([q_values, best_actions], feed_dict={states:s, actions:a})"
   ]
  },
  {
   "cell_type": "code",
   "execution_count": 12,
   "metadata": {},
   "outputs": [
    {
     "data": {
      "text/plain": [
       "(array([-0.00086962, -0.00058135], dtype=float32),\n",
       " array([0.5396826 , 0.47619057], dtype=float32))"
      ]
     },
     "execution_count": 12,
     "metadata": {},
     "output_type": "execute_result"
    }
   ],
   "source": [
    "q_vals, best_acts"
   ]
  }
 ],
 "metadata": {
  "kernelspec": {
   "display_name": "Python 3",
   "language": "python",
   "name": "python3"
  },
  "language_info": {
   "codemirror_mode": {
    "name": "ipython",
    "version": 3
   },
   "file_extension": ".py",
   "mimetype": "text/x-python",
   "name": "python",
   "nbconvert_exporter": "python",
   "pygments_lexer": "ipython3",
   "version": "3.6.1"
  }
 },
 "nbformat": 4,
 "nbformat_minor": 2
}
