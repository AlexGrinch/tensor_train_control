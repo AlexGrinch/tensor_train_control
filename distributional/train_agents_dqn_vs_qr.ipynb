{
 "cells": [
  {
   "cell_type": "markdown",
   "metadata": {},
   "source": [
    "# Imports"
   ]
  },
  {
   "cell_type": "code",
   "execution_count": 1,
   "metadata": {},
   "outputs": [],
   "source": [
    "from agent_arena_no_gathering import *\n",
    "from environments.evil_wgw_env import EvilWindyGridWorld"
   ]
  },
  {
   "cell_type": "markdown",
   "metadata": {},
   "source": [
    "### Agent training"
   ]
  },
  {
   "cell_type": "code",
   "execution_count": 2,
   "metadata": {},
   "outputs": [],
   "source": [
    "num_actions = 4"
   ]
  },
  {
   "cell_type": "code",
   "execution_count": null,
   "metadata": {
    "scrolled": true
   },
   "outputs": [],
   "source": [
    "for i in range(5):\n",
    "    for stoc in [0.0, 0.02, 0.05]:\n",
    "        \n",
    "        tf.reset_default_graph()\n",
    "    \n",
    "        dqn_trainer = DQNTrainer(\n",
    "            num_actions, state_shape=[10, 7, 1],\n",
    "            convs=[[16, 2, 1], [32, 1, 1]], fully_connected=[64, 64],\n",
    "            gradient_clip=10.0,\n",
    "            scope=\"dqn_trainer\")\n",
    "\n",
    "        quant_trainer = QuantileTrainer(\n",
    "            num_actions, state_shape=[10, 7, 1],\n",
    "            convs=[[16, 2, 1], [32, 1, 1]], fully_connected=[64],\n",
    "            num_atoms=64, kappa=1.0,\n",
    "            scope=\"qr_trainer\")\n",
    "        \n",
    "        cat_trainer = CategoricalTrainer(\n",
    "            num_actions, state_shape=[10, 7, 1],\n",
    "            convs=[[16, 2, 1], [32, 1, 1]], fully_connected=[64],\n",
    "            num_atoms=64, v=(-1, 1),\n",
    "            scope=\"cat_trainer\")\n",
    "\n",
    "        trainers = [dqn_trainer, cat_trainer, quant_trainer]\n",
    "        \n",
    "        env = EvilWindyGridWorld(\n",
    "            grid_size=(7, 10), visual=True, stochasticity=stoc)\n",
    "\n",
    "        agent_arena = AgentArena(\n",
    "            env, num_actions, trainers,\n",
    "            save_path=\"results/031819/exp\"+str(stoc)[2:]+\"_\"+str(i+1))\n",
    "\n",
    "        agent_arena.set_parameters(\n",
    "            replay_memory_size=100000,\n",
    "            discount_factor=0.99,\n",
    "            max_episode_length=100)\n",
    "    \n",
    "        agent_arena.start(gpu_id=1, max_num_frames=2000000, batch_size=256)"
   ]
  },
  {
   "cell_type": "code",
   "execution_count": null,
   "metadata": {},
   "outputs": [],
   "source": []
  },
  {
   "cell_type": "code",
   "execution_count": null,
   "metadata": {},
   "outputs": [],
   "source": []
  },
  {
   "cell_type": "code",
   "execution_count": null,
   "metadata": {},
   "outputs": [],
   "source": []
  },
  {
   "cell_type": "code",
   "execution_count": null,
   "metadata": {},
   "outputs": [],
   "source": []
  },
  {
   "cell_type": "code",
   "execution_count": null,
   "metadata": {},
   "outputs": [],
   "source": [
    "for i in range(5):\n",
    "    for stoc in [0.0, 0.02, 0.05, 0.1, 0.2]:\n",
    "        \n",
    "        tf.reset_default_graph()\n",
    "    \n",
    "        cat_trainer1 = CategoricalTrainer(\n",
    "            num_actions, state_shape=[10, 7, 1],\n",
    "            convs=[[16, 2, 1], [32, 1, 1]], fully_connected=[64],\n",
    "            num_atoms=64, v=(-5, 5),\n",
    "            scope=\"cat_trainer1\")\n",
    "\n",
    "        cat_trainer2 = CategoricalTrainer(\n",
    "            num_actions, state_shape=[10, 7, 1],\n",
    "            convs=[[16, 2, 1], [32, 1, 1]], fully_connected=[64],\n",
    "            num_atoms=64, v=(-3, 3),\n",
    "            scope=\"cat_trainer2\")\n",
    "        \n",
    "        cat_trainer3 = CategoricalTrainer(\n",
    "            num_actions, state_shape=[10, 7, 1],\n",
    "            convs=[[16, 2, 1], [32, 1, 1]], fully_connected=[64],\n",
    "            num_atoms=64, v=(-1, 1),\n",
    "            scope=\"cat_trainer3\")\n",
    "\n",
    "        trainers = [cat_trainer1, cat_trainer2, cat_trainer3]\n",
    "        \n",
    "        env = EvilWindyGridWorld(\n",
    "            grid_size=(7, 10), visual=True, stochasticity=stoc)\n",
    "\n",
    "        agent_arena = AgentArena(\n",
    "            env, num_actions, trainers,\n",
    "            save_path=\"results/categorical/exp\"+str(stoc)[2:]+\"_\"+str(i+1))\n",
    "\n",
    "        agent_arena.set_parameters(\n",
    "            replay_memory_size=100000,\n",
    "            discount_factor=0.99,\n",
    "            max_episode_length=100)\n",
    "    \n",
    "        agent_arena.start(gpu_id=4, max_num_frames=2000000)"
   ]
  },
  {
   "cell_type": "code",
   "execution_count": null,
   "metadata": {},
   "outputs": [],
   "source": []
  }
 ],
 "metadata": {
  "kernelspec": {
   "display_name": "Python 3",
   "language": "python",
   "name": "python3"
  },
  "language_info": {
   "codemirror_mode": {
    "name": "ipython",
    "version": 3
   },
   "file_extension": ".py",
   "mimetype": "text/x-python",
   "name": "python",
   "nbconvert_exporter": "python",
   "pygments_lexer": "ipython3",
   "version": "3.5.2"
  }
 },
 "nbformat": 4,
 "nbformat_minor": 2
}
