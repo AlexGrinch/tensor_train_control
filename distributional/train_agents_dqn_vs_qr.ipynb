{
 "cells": [
  {
   "cell_type": "markdown",
   "metadata": {},
   "source": [
    "# Imports"
   ]
  },
  {
   "cell_type": "code",
   "execution_count": 1,
   "metadata": {},
   "outputs": [],
   "source": [
    "from agent_arena_no_gathering import *\n",
    "from environments.evil_wgw_env import EvilWindyGridWorld"
   ]
  },
  {
   "cell_type": "code",
   "execution_count": 2,
   "metadata": {},
   "outputs": [],
   "source": [
    "import os\n",
    "\n",
    "os.environ[\"CUDA_DEVICE_ORDER\"] = \"PCI_BUS_ID\"\n",
    "os.environ[\"CUDA_VISIBLE_DEVICES\"] = \"3\""
   ]
  },
  {
   "cell_type": "markdown",
   "metadata": {},
   "source": [
    "### Agent training"
   ]
  },
  {
   "cell_type": "code",
   "execution_count": 3,
   "metadata": {},
   "outputs": [],
   "source": [
    "num_actions = 4"
   ]
  },
  {
   "cell_type": "code",
   "execution_count": null,
   "metadata": {
    "scrolled": true
   },
   "outputs": [],
   "source": [
    "for i in range(5):\n",
    "    for stoc in [0.0, 0.02, 0.05]:\n",
    "\n",
    "        dqn_trainer = Trainer(\n",
    "            num_actions,\n",
    "            state_shape=[10, 7, 1],\n",
    "            convs=[[16, 2, 1], [32, 1, 1]],\n",
    "            hiddens=[64, 64],\n",
    "            huber_loss_delta=10.0\n",
    "        )\n",
    "\n",
    "        quant_trainer = Trainer(\n",
    "            num_actions,\n",
    "            state_shape=[10, 7, 1],\n",
    "            convs=[[16, 2, 1], [32, 1, 1]],\n",
    "            hiddens=[64],\n",
    "            num_atoms=64,\n",
    "            distribution=\"quantile\",\n",
    "            huber_loss_delta=1.0\n",
    "        )\n",
    "        \n",
    "        cat_trainer = Trainer(\n",
    "            num_actions,\n",
    "            state_shape=[10, 7, 1],\n",
    "            convs=[[16, 2, 1], [32, 1, 1]],\n",
    "            hiddens=[64],\n",
    "            num_atoms=64,\n",
    "            values_range=(-1, 1),\n",
    "            distribution=\"categorical\"\n",
    "        )\n",
    "\n",
    "        trainers = [dqn_trainer, cat_trainer, quant_trainer]\n",
    "        \n",
    "        env = EvilWindyGridWorld(\n",
    "            grid_size=(7, 10), visual=True, stochasticity=stoc)\n",
    "\n",
    "        agent_arena = AgentArena(\n",
    "            env, num_actions, trainers,\n",
    "            save_path=\"results/031819/exp\"+str(stoc)[2:]+\"_\"+str(i+1)\n",
    "        )\n",
    "\n",
    "        agent_arena.set_parameters(\n",
    "            replay_memory_size=100000,\n",
    "            discount_factor=0.99,\n",
    "            max_episode_length=100\n",
    "        )\n",
    "    \n",
    "        agent_arena.start(max_num_frames=2000000, batch_size=32)"
   ]
  },
  {
   "cell_type": "code",
   "execution_count": null,
   "metadata": {},
   "outputs": [],
   "source": []
  }
 ],
 "metadata": {
  "kernelspec": {
   "display_name": "opensim",
   "language": "python3",
   "name": "opensim"
  },
  "language_info": {
   "codemirror_mode": {
    "name": "ipython",
    "version": 3
   },
   "file_extension": ".py",
   "mimetype": "text/x-python",
   "name": "python",
   "nbconvert_exporter": "python",
   "pygments_lexer": "ipython3",
   "version": "3.6.6"
  }
 },
 "nbformat": 4,
 "nbformat_minor": 2
}
