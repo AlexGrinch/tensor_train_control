{
 "cells": [
  {
   "cell_type": "markdown",
   "metadata": {},
   "source": [
    "# Imports"
   ]
  },
  {
   "cell_type": "code",
   "execution_count": null,
   "metadata": {},
   "outputs": [],
   "source": [
    "import gym\n",
    "from utils import *\n",
    "from agents import *"
   ]
  },
  {
   "cell_type": "markdown",
   "metadata": {},
   "source": [
    "# Environment"
   ]
  },
  {
   "cell_type": "code",
   "execution_count": null,
   "metadata": {},
   "outputs": [],
   "source": [
    "game_id = \"SeaquestNoFrameskip-v4\"\n",
    "env = wrap_deepmind(gym.make(game_id))\n",
    "num_actions = env.unwrapped.action_space.n"
   ]
  },
  {
   "cell_type": "markdown",
   "metadata": {},
   "source": [
    "# Agent training"
   ]
  },
  {
   "cell_type": "code",
   "execution_count": null,
   "metadata": {},
   "outputs": [],
   "source": [
    "atari_agent = GaussDQNAgent(env, num_actions, state_shape=[84, 84, 4],\n",
    "                            convs=[[32, 8, 4], [64, 4, 2], [64, 3, 1]], fully_connected=[512],\n",
    "                            base_sigma=0.05, sigma_coef=10, loss_function=\"kl_divergence\",\n",
    "                            save_path=\"atari_models\", model_name=\"gaussian_boi\")"
   ]
  },
  {
   "cell_type": "code",
   "execution_count": null,
   "metadata": {},
   "outputs": [],
   "source": [
    "atari_agent.set_parameters(max_episode_length=100000, discount_factor=0.99, final_eps=0.01,\n",
    "                           replay_memory_size=1000000, replay_start_size=50000, annealing_steps=1000000)"
   ]
  },
  {
   "cell_type": "code",
   "execution_count": null,
   "metadata": {
    "scrolled": true
   },
   "outputs": [],
   "source": [
    "aa.train(gpu_id=1, exploration=\"e-greedy\", save_freq=1000000, max_num_epochs=1000, performance_print_freq=50)"
   ]
  },
  {
   "cell_type": "markdown",
   "metadata": {},
   "source": [
    "# Other agents"
   ]
  },
  {
   "cell_type": "code",
   "execution_count": null,
   "metadata": {},
   "outputs": [],
   "source": [
    "# Classic deep Q-network\n",
    "atari_agent = DQNAgent(env, num_actions, state_shape=[84, 84, 4],\n",
    "                       convs=[[32, 8, 4], [64, 4, 2], [64, 3, 1]], fully_connected=[512],\n",
    "                       save_path=\"atari_models\", model_name=\"dqn_boi\")\n",
    "\n",
    "# Dueling deep Q-network\n",
    "atari_agent = DuelDQNAgent(env, num_actions, state_shape=[84, 84, 4],\n",
    "                           convs=[[32, 8, 4], [64, 4, 2], [64, 3, 1]], fully_connected=[256],\n",
    "                           save_path=\"atari_models\", model_name=\"dueldqn_boi\")\n",
    "\n",
    "# Categorical deep Q-network (C51)\n",
    "atari_agent = CatDQNAgent(env, num_actions, state_shape=[84, 84, 4],\n",
    "                          convs=[[32, 8, 4], [64, 4, 2], [64, 3, 1]], fully_connected=[512],\n",
    "                          v=(-10, 10), num_atoms=51,\n",
    "                          save_path=\"atari_models\", model_name=\"catdqn_boi\")\n",
    "\n",
    "# Gaussian deep Q-network\n",
    "atari_agent = GaussDQNAgent(env, num_actions, state_shape=[84, 84, 4],\n",
    "                            convs=[[32, 8, 4], [64, 4, 2], [64, 3, 1]], fully_connected=[512],\n",
    "                            base_sigma=0.05, sigma_coef=10, loss_function=\"kl_divergence\",\n",
    "                            save_path=\"atari_models\", model_name=\"gaussian_boi\")"
   ]
  }
 ],
 "metadata": {
  "kernelspec": {
   "display_name": "Python 3",
   "language": "python",
   "name": "python3"
  },
  "language_info": {
   "codemirror_mode": {
    "name": "ipython",
    "version": 3
   },
   "file_extension": ".py",
   "mimetype": "text/x-python",
   "name": "python",
   "nbconvert_exporter": "python",
   "pygments_lexer": "ipython3",
   "version": "3.5.2"
  }
 },
 "nbformat": 4,
 "nbformat_minor": 2
}
